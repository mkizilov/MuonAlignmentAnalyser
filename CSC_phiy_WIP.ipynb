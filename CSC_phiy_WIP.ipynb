{
 "cells": [
  {
   "cell_type": "code",
   "execution_count": 1,
   "metadata": {},
   "outputs": [
    {
     "name": "stdout",
     "output_type": "stream",
     "text": [
      "Welcome to JupyROOT 6.28/00\n"
     ]
    }
   ],
   "source": [
    "from alignment_parser import *\n",
    "from alignment_manipulations import *\n",
    "from csc_plotter import *\n",
    "from dt_plotter import *\n",
    "from gem_plotter import *"
   ]
  },
  {
   "cell_type": "markdown",
   "metadata": {},
   "source": [
    "# Preparation\n",
    ".db file stores global coordinates of detectors and their rawId. rawId is a 32-bit unsigned integer.  The four most significant bits (31:28) identify the large-scale detector while the next three bits (27:25) identify a part of the detector. There are several exeptions. To make it easier we use report.py file from TBMA to match CSC detectors\\layers with it's id. You can use any report.py file, it uses it only to match CSC with ID."
   ]
  },
  {
   "cell_type": "code",
   "execution_count": 18,
   "metadata": {},
   "outputs": [],
   "source": [
    "df_report = parse_csc_reports('data/iter3_report.py', 'report')"
   ]
  },
  {
   "cell_type": "markdown",
   "metadata": {},
   "source": [
    "Now you need to save desired tag from db file to txt file. To do that you need to have .db file with CSC geometry.\n",
    "To save it to .txt do following:\n",
    "1. Go to your $CMSSW/src\n",
    "2. cmsenv\n",
    "3. conddb --db yourgeom.db status\n",
    "4. find tag with CSC geometry (usually CSCAlignmentRcd) copy the payload of it\n",
    "5. conddb --db yourgeom.db dump --format xml --type payload yourpayload > yourgeom.txt\n",
    "Then parse this file:"
   ]
  },
  {
   "cell_type": "code",
   "execution_count": 19,
   "metadata": {},
   "outputs": [],
   "source": [
    "def parse_db(file_path):\n",
    "    tree = ET.parse(file_path)\n",
    "    root = tree.getroot()\n",
    "\n",
    "    data = []\n",
    "    for item in root.findall('.//item'):\n",
    "        raw_id = int(item.find('m-rawId').text)\n",
    "        dx = np.float64(item.find('m-translation/dx').text)\n",
    "        dy = np.float64(item.find('m-translation/dy').text)\n",
    "        dz = np.float64(item.find('m-translation/dz').text)\n",
    "        phi = np.float64(item.find('m-eulerAngles/phi_').text)\n",
    "        theta = np.float64(item.find('m-eulerAngles/theta_').text)\n",
    "        psi = np.float64(item.find('m-eulerAngles/psi_').text)\n",
    "\n",
    "        data.append({\n",
    "            'rawID': raw_id,\n",
    "            'dx': dx,\n",
    "            'dy': dy,\n",
    "            'dz': dz,\n",
    "            'phi': phi,\n",
    "            'theta': theta,\n",
    "            'psi': psi\n",
    "        })\n",
    "\n",
    "    df = pd.DataFrame(data)\n",
    "    return df\n",
    "\n",
    "# Example usage\n",
    "file_path = 'data/global.txt'\n",
    "db_geom = parse_db(file_path)"
   ]
  },
  {
   "cell_type": "code",
   "execution_count": 20,
   "metadata": {},
   "outputs": [
    {
     "data": {
      "text/html": [
       "<div>\n",
       "<style scoped>\n",
       "    .dataframe tbody tr th:only-of-type {\n",
       "        vertical-align: middle;\n",
       "    }\n",
       "\n",
       "    .dataframe tbody tr th {\n",
       "        vertical-align: top;\n",
       "    }\n",
       "\n",
       "    .dataframe thead th {\n",
       "        text-align: right;\n",
       "    }\n",
       "</style>\n",
       "<table border=\"1\" class=\"dataframe\">\n",
       "  <thead>\n",
       "    <tr style=\"text-align: right;\">\n",
       "      <th></th>\n",
       "      <th>chamberId</th>\n",
       "      <th>endcap</th>\n",
       "      <th>station</th>\n",
       "      <th>ring</th>\n",
       "      <th>chamber</th>\n",
       "      <th>name</th>\n",
       "      <th>posNum</th>\n",
       "      <th>negNum</th>\n",
       "      <th>fittype</th>\n",
       "      <th>x</th>\n",
       "      <th>...</th>\n",
       "      <th>phix</th>\n",
       "      <th>phiy</th>\n",
       "      <th>phiz</th>\n",
       "      <th>loglikelihood</th>\n",
       "      <th>numsegments</th>\n",
       "      <th>sumofweights</th>\n",
       "      <th>redchi2</th>\n",
       "      <th>stats</th>\n",
       "      <th>covmatrix</th>\n",
       "      <th>type</th>\n",
       "    </tr>\n",
       "  </thead>\n",
       "  <tbody>\n",
       "    <tr>\n",
       "      <th>0</th>\n",
       "      <td>604017672</td>\n",
       "      <td>1</td>\n",
       "      <td>1</td>\n",
       "      <td>1</td>\n",
       "      <td>1</td>\n",
       "      <td>report</td>\n",
       "      <td>2933</td>\n",
       "      <td>0</td>\n",
       "      <td>6DOFrphi</td>\n",
       "      <td>-0.003293</td>\n",
       "      <td>...</td>\n",
       "      <td>0.0</td>\n",
       "      <td>0.0</td>\n",
       "      <td>0.000112</td>\n",
       "      <td>914.465</td>\n",
       "      <td>2933.0</td>\n",
       "      <td>2933.0</td>\n",
       "      <td>0.0</td>\n",
       "      <td>None</td>\n",
       "      <td>[1.10825e-05, 1.70486e-06, -5.53622e-08, 1.643...</td>\n",
       "      <td>CSCChamber</td>\n",
       "    </tr>\n",
       "    <tr>\n",
       "      <th>1</th>\n",
       "      <td>604017688</td>\n",
       "      <td>1</td>\n",
       "      <td>1</td>\n",
       "      <td>1</td>\n",
       "      <td>3</td>\n",
       "      <td>report</td>\n",
       "      <td>2806</td>\n",
       "      <td>0</td>\n",
       "      <td>6DOFrphi</td>\n",
       "      <td>0.001230</td>\n",
       "      <td>...</td>\n",
       "      <td>0.0</td>\n",
       "      <td>0.0</td>\n",
       "      <td>-0.000036</td>\n",
       "      <td>1011.510</td>\n",
       "      <td>2806.0</td>\n",
       "      <td>2806.0</td>\n",
       "      <td>0.0</td>\n",
       "      <td>None</td>\n",
       "      <td>[1.06354e-05, 9.29182e-06, -6.04827e-08, 1.786...</td>\n",
       "      <td>CSCChamber</td>\n",
       "    </tr>\n",
       "    <tr>\n",
       "      <th>2</th>\n",
       "      <td>604017704</td>\n",
       "      <td>1</td>\n",
       "      <td>1</td>\n",
       "      <td>1</td>\n",
       "      <td>5</td>\n",
       "      <td>report</td>\n",
       "      <td>2898</td>\n",
       "      <td>0</td>\n",
       "      <td>6DOFrphi</td>\n",
       "      <td>-0.000979</td>\n",
       "      <td>...</td>\n",
       "      <td>0.0</td>\n",
       "      <td>0.0</td>\n",
       "      <td>-0.000021</td>\n",
       "      <td>848.084</td>\n",
       "      <td>2898.0</td>\n",
       "      <td>2898.0</td>\n",
       "      <td>0.0</td>\n",
       "      <td>None</td>\n",
       "      <td>[1.15662e-05, 5.80078e-06, -5.09226e-08, 1.897...</td>\n",
       "      <td>CSCChamber</td>\n",
       "    </tr>\n",
       "    <tr>\n",
       "      <th>3</th>\n",
       "      <td>604017720</td>\n",
       "      <td>1</td>\n",
       "      <td>1</td>\n",
       "      <td>1</td>\n",
       "      <td>7</td>\n",
       "      <td>report</td>\n",
       "      <td>2745</td>\n",
       "      <td>0</td>\n",
       "      <td>6DOFrphi</td>\n",
       "      <td>-0.000529</td>\n",
       "      <td>...</td>\n",
       "      <td>0.0</td>\n",
       "      <td>0.0</td>\n",
       "      <td>0.000011</td>\n",
       "      <td>932.293</td>\n",
       "      <td>2745.0</td>\n",
       "      <td>2745.0</td>\n",
       "      <td>0.0</td>\n",
       "      <td>None</td>\n",
       "      <td>[1.11952e-05, -5.67721e-06, -5.50665e-08, 1.84...</td>\n",
       "      <td>CSCChamber</td>\n",
       "    </tr>\n",
       "    <tr>\n",
       "      <th>4</th>\n",
       "      <td>604017736</td>\n",
       "      <td>1</td>\n",
       "      <td>1</td>\n",
       "      <td>1</td>\n",
       "      <td>9</td>\n",
       "      <td>report</td>\n",
       "      <td>2674</td>\n",
       "      <td>0</td>\n",
       "      <td>6DOFrphi</td>\n",
       "      <td>-0.000767</td>\n",
       "      <td>...</td>\n",
       "      <td>0.0</td>\n",
       "      <td>0.0</td>\n",
       "      <td>-0.000010</td>\n",
       "      <td>885.195</td>\n",
       "      <td>2674.0</td>\n",
       "      <td>2674.0</td>\n",
       "      <td>0.0</td>\n",
       "      <td>None</td>\n",
       "      <td>[1.19714e-05, -9.89412e-06, -7.50572e-08, 2.01...</td>\n",
       "      <td>CSCChamber</td>\n",
       "    </tr>\n",
       "    <tr>\n",
       "      <th>...</th>\n",
       "      <td>...</td>\n",
       "      <td>...</td>\n",
       "      <td>...</td>\n",
       "      <td>...</td>\n",
       "      <td>...</td>\n",
       "      <td>...</td>\n",
       "      <td>...</td>\n",
       "      <td>...</td>\n",
       "      <td>...</td>\n",
       "      <td>...</td>\n",
       "      <td>...</td>\n",
       "      <td>...</td>\n",
       "      <td>...</td>\n",
       "      <td>...</td>\n",
       "      <td>...</td>\n",
       "      <td>...</td>\n",
       "      <td>...</td>\n",
       "      <td>...</td>\n",
       "      <td>...</td>\n",
       "      <td>...</td>\n",
       "      <td>...</td>\n",
       "    </tr>\n",
       "    <tr>\n",
       "      <th>607</th>\n",
       "      <td>604062944</td>\n",
       "      <td>2</td>\n",
       "      <td>4</td>\n",
       "      <td>2</td>\n",
       "      <td>28</td>\n",
       "      <td>report</td>\n",
       "      <td>2063</td>\n",
       "      <td>0</td>\n",
       "      <td>6DOFrphi</td>\n",
       "      <td>-0.010295</td>\n",
       "      <td>...</td>\n",
       "      <td>0.0</td>\n",
       "      <td>0.0</td>\n",
       "      <td>0.000032</td>\n",
       "      <td>-2826.360</td>\n",
       "      <td>2063.0</td>\n",
       "      <td>2063.0</td>\n",
       "      <td>0.0</td>\n",
       "      <td>None</td>\n",
       "      <td>[0.000551841, 0.000385273, -2.77503e-06, 1.200...</td>\n",
       "      <td>CSCChamber</td>\n",
       "    </tr>\n",
       "    <tr>\n",
       "      <th>608</th>\n",
       "      <td>604062960</td>\n",
       "      <td>2</td>\n",
       "      <td>4</td>\n",
       "      <td>2</td>\n",
       "      <td>30</td>\n",
       "      <td>report</td>\n",
       "      <td>1641</td>\n",
       "      <td>0</td>\n",
       "      <td>6DOFrphi</td>\n",
       "      <td>0.008614</td>\n",
       "      <td>...</td>\n",
       "      <td>0.0</td>\n",
       "      <td>0.0</td>\n",
       "      <td>-0.000273</td>\n",
       "      <td>-2174.070</td>\n",
       "      <td>1641.0</td>\n",
       "      <td>1641.0</td>\n",
       "      <td>0.0</td>\n",
       "      <td>None</td>\n",
       "      <td>[0.000875382, -0.00306558, -6.03993e-06, -1.08...</td>\n",
       "      <td>CSCChamber</td>\n",
       "    </tr>\n",
       "    <tr>\n",
       "      <th>609</th>\n",
       "      <td>604062976</td>\n",
       "      <td>2</td>\n",
       "      <td>4</td>\n",
       "      <td>2</td>\n",
       "      <td>32</td>\n",
       "      <td>report</td>\n",
       "      <td>1944</td>\n",
       "      <td>0</td>\n",
       "      <td>6DOFrphi</td>\n",
       "      <td>0.014699</td>\n",
       "      <td>...</td>\n",
       "      <td>0.0</td>\n",
       "      <td>0.0</td>\n",
       "      <td>-0.000277</td>\n",
       "      <td>-2616.450</td>\n",
       "      <td>1944.0</td>\n",
       "      <td>1944.0</td>\n",
       "      <td>0.0</td>\n",
       "      <td>None</td>\n",
       "      <td>[0.000696638, 0.000931249, -4.76245e-06, 8.047...</td>\n",
       "      <td>CSCChamber</td>\n",
       "    </tr>\n",
       "    <tr>\n",
       "      <th>610</th>\n",
       "      <td>604062992</td>\n",
       "      <td>2</td>\n",
       "      <td>4</td>\n",
       "      <td>2</td>\n",
       "      <td>34</td>\n",
       "      <td>report</td>\n",
       "      <td>2284</td>\n",
       "      <td>0</td>\n",
       "      <td>6DOFrphi</td>\n",
       "      <td>0.001334</td>\n",
       "      <td>...</td>\n",
       "      <td>0.0</td>\n",
       "      <td>0.0</td>\n",
       "      <td>-0.000154</td>\n",
       "      <td>-3176.430</td>\n",
       "      <td>2284.0</td>\n",
       "      <td>2284.0</td>\n",
       "      <td>0.0</td>\n",
       "      <td>None</td>\n",
       "      <td>[0.000480189, 0.000177403, -2.03319e-06, 1.392...</td>\n",
       "      <td>CSCChamber</td>\n",
       "    </tr>\n",
       "    <tr>\n",
       "      <th>611</th>\n",
       "      <td>604063008</td>\n",
       "      <td>2</td>\n",
       "      <td>4</td>\n",
       "      <td>2</td>\n",
       "      <td>36</td>\n",
       "      <td>report</td>\n",
       "      <td>2297</td>\n",
       "      <td>0</td>\n",
       "      <td>6DOFrphi</td>\n",
       "      <td>-0.016801</td>\n",
       "      <td>...</td>\n",
       "      <td>0.0</td>\n",
       "      <td>0.0</td>\n",
       "      <td>0.000110</td>\n",
       "      <td>-3272.010</td>\n",
       "      <td>2297.0</td>\n",
       "      <td>2297.0</td>\n",
       "      <td>0.0</td>\n",
       "      <td>None</td>\n",
       "      <td>[0.000511093, -0.000229751, -2.16078e-06, 1.28...</td>\n",
       "      <td>CSCChamber</td>\n",
       "    </tr>\n",
       "  </tbody>\n",
       "</table>\n",
       "<p>612 rows × 22 columns</p>\n",
       "</div>"
      ],
      "text/plain": [
       "     chamberId  endcap  station  ring  chamber    name  posNum  negNum  \\\n",
       "0    604017672       1        1     1        1  report    2933       0   \n",
       "1    604017688       1        1     1        3  report    2806       0   \n",
       "2    604017704       1        1     1        5  report    2898       0   \n",
       "3    604017720       1        1     1        7  report    2745       0   \n",
       "4    604017736       1        1     1        9  report    2674       0   \n",
       "..         ...     ...      ...   ...      ...     ...     ...     ...   \n",
       "607  604062944       2        4     2       28  report    2063       0   \n",
       "608  604062960       2        4     2       30  report    1641       0   \n",
       "609  604062976       2        4     2       32  report    1944       0   \n",
       "610  604062992       2        4     2       34  report    2284       0   \n",
       "611  604063008       2        4     2       36  report    2297       0   \n",
       "\n",
       "      fittype         x  ...  phix  phiy      phiz  loglikelihood  \\\n",
       "0    6DOFrphi -0.003293  ...   0.0   0.0  0.000112        914.465   \n",
       "1    6DOFrphi  0.001230  ...   0.0   0.0 -0.000036       1011.510   \n",
       "2    6DOFrphi -0.000979  ...   0.0   0.0 -0.000021        848.084   \n",
       "3    6DOFrphi -0.000529  ...   0.0   0.0  0.000011        932.293   \n",
       "4    6DOFrphi -0.000767  ...   0.0   0.0 -0.000010        885.195   \n",
       "..        ...       ...  ...   ...   ...       ...            ...   \n",
       "607  6DOFrphi -0.010295  ...   0.0   0.0  0.000032      -2826.360   \n",
       "608  6DOFrphi  0.008614  ...   0.0   0.0 -0.000273      -2174.070   \n",
       "609  6DOFrphi  0.014699  ...   0.0   0.0 -0.000277      -2616.450   \n",
       "610  6DOFrphi  0.001334  ...   0.0   0.0 -0.000154      -3176.430   \n",
       "611  6DOFrphi -0.016801  ...   0.0   0.0  0.000110      -3272.010   \n",
       "\n",
       "     numsegments  sumofweights  redchi2  stats  \\\n",
       "0         2933.0        2933.0      0.0   None   \n",
       "1         2806.0        2806.0      0.0   None   \n",
       "2         2898.0        2898.0      0.0   None   \n",
       "3         2745.0        2745.0      0.0   None   \n",
       "4         2674.0        2674.0      0.0   None   \n",
       "..           ...           ...      ...    ...   \n",
       "607       2063.0        2063.0      0.0   None   \n",
       "608       1641.0        1641.0      0.0   None   \n",
       "609       1944.0        1944.0      0.0   None   \n",
       "610       2284.0        2284.0      0.0   None   \n",
       "611       2297.0        2297.0      0.0   None   \n",
       "\n",
       "                                             covmatrix        type  \n",
       "0    [1.10825e-05, 1.70486e-06, -5.53622e-08, 1.643...  CSCChamber  \n",
       "1    [1.06354e-05, 9.29182e-06, -6.04827e-08, 1.786...  CSCChamber  \n",
       "2    [1.15662e-05, 5.80078e-06, -5.09226e-08, 1.897...  CSCChamber  \n",
       "3    [1.11952e-05, -5.67721e-06, -5.50665e-08, 1.84...  CSCChamber  \n",
       "4    [1.19714e-05, -9.89412e-06, -7.50572e-08, 2.01...  CSCChamber  \n",
       "..                                                 ...         ...  \n",
       "607  [0.000551841, 0.000385273, -2.77503e-06, 1.200...  CSCChamber  \n",
       "608  [0.000875382, -0.00306558, -6.03993e-06, -1.08...  CSCChamber  \n",
       "609  [0.000696638, 0.000931249, -4.76245e-06, 8.047...  CSCChamber  \n",
       "610  [0.000480189, 0.000177403, -2.03319e-06, 1.392...  CSCChamber  \n",
       "611  [0.000511093, -0.000229751, -2.16078e-06, 1.28...  CSCChamber  \n",
       "\n",
       "[612 rows x 22 columns]"
      ]
     },
     "execution_count": 20,
     "metadata": {},
     "output_type": "execute_result"
    }
   ],
   "source": [
    "df_report"
   ]
  },
  {
   "cell_type": "code",
   "execution_count": 21,
   "metadata": {},
   "outputs": [],
   "source": [
    "import pandas as pd\n",
    "\n",
    "def create_layered_dataframe(df_report, db_geom):\n",
    "    # Create an empty list to store the results\n",
    "    results = []\n",
    "    \n",
    "    # Iterate over each row in df_report\n",
    "    for _, row in df_report.iterrows():\n",
    "        chamber_id = row['chamberId']\n",
    "        endcap = row['endcap']\n",
    "        station = row['station']\n",
    "        ring = row['ring']\n",
    "        chamber = row['chamber']\n",
    "        \n",
    "        # Find the corresponding entry in db_geom for the chamber\n",
    "        chamber_geom = db_geom[db_geom['rawID'] == chamber_id]\n",
    "        \n",
    "        if not chamber_geom.empty:\n",
    "            chamber_geom_row = chamber_geom.iloc[0]\n",
    "            # Add the chamber itself with layer 0\n",
    "            results.append({\n",
    "                'endcap': endcap,\n",
    "                'station': station,\n",
    "                'ring': ring,\n",
    "                'chamber': chamber,\n",
    "                'layer': 0,\n",
    "                'dx': chamber_geom_row['dx'],\n",
    "                'dy': chamber_geom_row['dy'],\n",
    "                'dz': chamber_geom_row['dz'],\n",
    "                'phi': chamber_geom_row['phi'],\n",
    "                'theta': chamber_geom_row['theta'],\n",
    "                'psi': chamber_geom_row['psi']\n",
    "            })\n",
    "        \n",
    "            # Generate entries for layers 1 to 6\n",
    "            for layer in range(1, 7):\n",
    "                # Calculate the rawID for this specific layer\n",
    "                layer_rawID = chamber_id + layer\n",
    "                \n",
    "                # Find corresponding geometry in db_geom for the specific layer\n",
    "                layer_geom = db_geom[db_geom['rawID'] == layer_rawID]\n",
    "                \n",
    "                if not layer_geom.empty:\n",
    "                    geom_row = layer_geom.iloc[0]\n",
    "                    # Append the new row to the results list\n",
    "                    results.append({\n",
    "                        'endcap': endcap,\n",
    "                        'station': station,\n",
    "                        'ring': ring,\n",
    "                        'chamber': chamber,\n",
    "                        'layer': layer,\n",
    "                        'dx': geom_row['dx'],\n",
    "                        'dy': geom_row['dy'],\n",
    "                        'dz': geom_row['dz'],\n",
    "                        'phi': geom_row['phi'],\n",
    "                        'theta': geom_row['theta'],\n",
    "                        'psi': geom_row['psi']\n",
    "                    })\n",
    "    \n",
    "    # Convert the results list to a DataFrame\n",
    "    output_df = pd.DataFrame(results)\n",
    "    \n",
    "    return output_df\n",
    "\n",
    "# Example usage:\n",
    "# df_report and db_geom are assumed to be predefined DataFrames\n",
    "result_df = create_layered_dataframe(df_report, db_geom)\n"
   ]
  },
  {
   "cell_type": "code",
   "execution_count": 22,
   "metadata": {},
   "outputs": [
    {
     "data": {
      "text/html": [
       "<div>\n",
       "<style scoped>\n",
       "    .dataframe tbody tr th:only-of-type {\n",
       "        vertical-align: middle;\n",
       "    }\n",
       "\n",
       "    .dataframe tbody tr th {\n",
       "        vertical-align: top;\n",
       "    }\n",
       "\n",
       "    .dataframe thead th {\n",
       "        text-align: right;\n",
       "    }\n",
       "</style>\n",
       "<table border=\"1\" class=\"dataframe\">\n",
       "  <thead>\n",
       "    <tr style=\"text-align: right;\">\n",
       "      <th></th>\n",
       "      <th>endcap</th>\n",
       "      <th>station</th>\n",
       "      <th>ring</th>\n",
       "      <th>chamber</th>\n",
       "      <th>layer</th>\n",
       "      <th>dx</th>\n",
       "      <th>dy</th>\n",
       "      <th>dz</th>\n",
       "      <th>phi</th>\n",
       "      <th>theta</th>\n",
       "      <th>psi</th>\n",
       "    </tr>\n",
       "  </thead>\n",
       "  <tbody>\n",
       "    <tr>\n",
       "      <th>0</th>\n",
       "      <td>1</td>\n",
       "      <td>1</td>\n",
       "      <td>1</td>\n",
       "      <td>1</td>\n",
       "      <td>0</td>\n",
       "      <td>181.966354</td>\n",
       "      <td>0.050277</td>\n",
       "      <td>616.950012</td>\n",
       "      <td>0.785213</td>\n",
       "      <td>3.141593</td>\n",
       "      <td>-0.785213</td>\n",
       "    </tr>\n",
       "    <tr>\n",
       "      <th>1</th>\n",
       "      <td>1</td>\n",
       "      <td>1</td>\n",
       "      <td>1</td>\n",
       "      <td>1</td>\n",
       "      <td>1</td>\n",
       "      <td>181.966350</td>\n",
       "      <td>0.039669</td>\n",
       "      <td>611.280029</td>\n",
       "      <td>0.785213</td>\n",
       "      <td>3.141593</td>\n",
       "      <td>-0.785213</td>\n",
       "    </tr>\n",
       "    <tr>\n",
       "      <th>2</th>\n",
       "      <td>1</td>\n",
       "      <td>1</td>\n",
       "      <td>1</td>\n",
       "      <td>1</td>\n",
       "      <td>2</td>\n",
       "      <td>181.966352</td>\n",
       "      <td>0.044145</td>\n",
       "      <td>613.480042</td>\n",
       "      <td>0.785213</td>\n",
       "      <td>3.141593</td>\n",
       "      <td>-0.785213</td>\n",
       "    </tr>\n",
       "    <tr>\n",
       "      <th>3</th>\n",
       "      <td>1</td>\n",
       "      <td>1</td>\n",
       "      <td>1</td>\n",
       "      <td>1</td>\n",
       "      <td>3</td>\n",
       "      <td>181.966354</td>\n",
       "      <td>0.048517</td>\n",
       "      <td>615.680054</td>\n",
       "      <td>0.785213</td>\n",
       "      <td>3.141593</td>\n",
       "      <td>-0.785213</td>\n",
       "    </tr>\n",
       "    <tr>\n",
       "      <th>4</th>\n",
       "      <td>1</td>\n",
       "      <td>1</td>\n",
       "      <td>1</td>\n",
       "      <td>1</td>\n",
       "      <td>4</td>\n",
       "      <td>181.966357</td>\n",
       "      <td>0.057234</td>\n",
       "      <td>617.880005</td>\n",
       "      <td>0.785213</td>\n",
       "      <td>3.141593</td>\n",
       "      <td>-0.785213</td>\n",
       "    </tr>\n",
       "    <tr>\n",
       "      <th>...</th>\n",
       "      <td>...</td>\n",
       "      <td>...</td>\n",
       "      <td>...</td>\n",
       "      <td>...</td>\n",
       "      <td>...</td>\n",
       "      <td>...</td>\n",
       "      <td>...</td>\n",
       "      <td>...</td>\n",
       "      <td>...</td>\n",
       "      <td>...</td>\n",
       "      <td>...</td>\n",
       "    </tr>\n",
       "    <tr>\n",
       "      <th>4279</th>\n",
       "      <td>2</td>\n",
       "      <td>4</td>\n",
       "      <td>2</td>\n",
       "      <td>36</td>\n",
       "      <td>2</td>\n",
       "      <td>516.763550</td>\n",
       "      <td>-90.772232</td>\n",
       "      <td>-1041.437744</td>\n",
       "      <td>0.697922</td>\n",
       "      <td>3.141593</td>\n",
       "      <td>-0.697922</td>\n",
       "    </tr>\n",
       "    <tr>\n",
       "      <th>4280</th>\n",
       "      <td>2</td>\n",
       "      <td>4</td>\n",
       "      <td>2</td>\n",
       "      <td>36</td>\n",
       "      <td>3</td>\n",
       "      <td>516.763550</td>\n",
       "      <td>-90.772232</td>\n",
       "      <td>-1038.897705</td>\n",
       "      <td>0.697922</td>\n",
       "      <td>3.141593</td>\n",
       "      <td>-0.697922</td>\n",
       "    </tr>\n",
       "    <tr>\n",
       "      <th>4281</th>\n",
       "      <td>2</td>\n",
       "      <td>4</td>\n",
       "      <td>2</td>\n",
       "      <td>36</td>\n",
       "      <td>4</td>\n",
       "      <td>516.763550</td>\n",
       "      <td>-90.772232</td>\n",
       "      <td>-1036.357666</td>\n",
       "      <td>0.697922</td>\n",
       "      <td>3.141593</td>\n",
       "      <td>-0.697922</td>\n",
       "    </tr>\n",
       "    <tr>\n",
       "      <th>4282</th>\n",
       "      <td>2</td>\n",
       "      <td>4</td>\n",
       "      <td>2</td>\n",
       "      <td>36</td>\n",
       "      <td>5</td>\n",
       "      <td>516.763550</td>\n",
       "      <td>-90.772232</td>\n",
       "      <td>-1033.817627</td>\n",
       "      <td>0.697922</td>\n",
       "      <td>3.141593</td>\n",
       "      <td>-0.697922</td>\n",
       "    </tr>\n",
       "    <tr>\n",
       "      <th>4283</th>\n",
       "      <td>2</td>\n",
       "      <td>4</td>\n",
       "      <td>2</td>\n",
       "      <td>36</td>\n",
       "      <td>6</td>\n",
       "      <td>516.763550</td>\n",
       "      <td>-90.772232</td>\n",
       "      <td>-1031.277710</td>\n",
       "      <td>0.697922</td>\n",
       "      <td>3.141593</td>\n",
       "      <td>-0.697922</td>\n",
       "    </tr>\n",
       "  </tbody>\n",
       "</table>\n",
       "<p>4284 rows × 11 columns</p>\n",
       "</div>"
      ],
      "text/plain": [
       "      endcap  station  ring  chamber  layer          dx         dy  \\\n",
       "0          1        1     1        1      0  181.966354   0.050277   \n",
       "1          1        1     1        1      1  181.966350   0.039669   \n",
       "2          1        1     1        1      2  181.966352   0.044145   \n",
       "3          1        1     1        1      3  181.966354   0.048517   \n",
       "4          1        1     1        1      4  181.966357   0.057234   \n",
       "...      ...      ...   ...      ...    ...         ...        ...   \n",
       "4279       2        4     2       36      2  516.763550 -90.772232   \n",
       "4280       2        4     2       36      3  516.763550 -90.772232   \n",
       "4281       2        4     2       36      4  516.763550 -90.772232   \n",
       "4282       2        4     2       36      5  516.763550 -90.772232   \n",
       "4283       2        4     2       36      6  516.763550 -90.772232   \n",
       "\n",
       "               dz       phi     theta       psi  \n",
       "0      616.950012  0.785213  3.141593 -0.785213  \n",
       "1      611.280029  0.785213  3.141593 -0.785213  \n",
       "2      613.480042  0.785213  3.141593 -0.785213  \n",
       "3      615.680054  0.785213  3.141593 -0.785213  \n",
       "4      617.880005  0.785213  3.141593 -0.785213  \n",
       "...           ...       ...       ...       ...  \n",
       "4279 -1041.437744  0.697922  3.141593 -0.697922  \n",
       "4280 -1038.897705  0.697922  3.141593 -0.697922  \n",
       "4281 -1036.357666  0.697922  3.141593 -0.697922  \n",
       "4282 -1033.817627  0.697922  3.141593 -0.697922  \n",
       "4283 -1031.277710  0.697922  3.141593 -0.697922  \n",
       "\n",
       "[4284 rows x 11 columns]"
      ]
     },
     "execution_count": 22,
     "metadata": {},
     "output_type": "execute_result"
    }
   ],
   "source": [
    "result_df"
   ]
  },
  {
   "cell_type": "markdown",
   "metadata": {},
   "source": [
    "Lets plot CSC in global"
   ]
  },
  {
   "cell_type": "code",
   "execution_count": 27,
   "metadata": {},
   "outputs": [
    {
     "data": {
      "application/vnd.plotly.v1+json": {
       "config": {
        "plotlyServerURL": "https://plot.ly"
       },
       "data": [
        {
         "marker": {
          "color": "blue",
          "opacity": 0.8,
          "size": 5
         },
         "mode": "markers",
         "name": "Chamber",
         "type": "scatter3d",
         "x": [
          178.99560546875
         ],
         "y": [
          31.59018325805664
         ],
         "z": [
          587.6500244140625
         ]
        },
        {
         "marker": {
          "color": "red",
          "opacity": 0.8,
          "size": 5
         },
         "mode": "markers",
         "name": "Layers 1-6",
         "type": "scatter3d",
         "x": [
          178.99864766391892,
          178.99715497756682,
          178.99627197408344,
          178.99493133480308,
          178.99505296483727,
          178.9932016598908
         ],
         "y": [
          31.572963118123972,
          31.581412368231707,
          31.58641054970933,
          31.59399914765441,
          31.593310669074818,
          31.603789855473494
         ],
         "z": [
          581.9800415039062,
          584.1800537109375,
          586.3800659179688,
          588.5800170898438,
          590.780029296875,
          592.9800415039062
         ]
        }
       ],
       "layout": {
        "height": 700,
        "scene": {
         "xaxis": {
          "title": {
           "text": "dx"
          }
         },
         "yaxis": {
          "title": {
           "text": "dy"
          }
         },
         "zaxis": {
          "title": {
           "text": "dz"
          }
         }
        },
        "template": {
         "data": {
          "bar": [
           {
            "error_x": {
             "color": "#2a3f5f"
            },
            "error_y": {
             "color": "#2a3f5f"
            },
            "marker": {
             "line": {
              "color": "#E5ECF6",
              "width": 0.5
             },
             "pattern": {
              "fillmode": "overlay",
              "size": 10,
              "solidity": 0.2
             }
            },
            "type": "bar"
           }
          ],
          "barpolar": [
           {
            "marker": {
             "line": {
              "color": "#E5ECF6",
              "width": 0.5
             },
             "pattern": {
              "fillmode": "overlay",
              "size": 10,
              "solidity": 0.2
             }
            },
            "type": "barpolar"
           }
          ],
          "carpet": [
           {
            "aaxis": {
             "endlinecolor": "#2a3f5f",
             "gridcolor": "white",
             "linecolor": "white",
             "minorgridcolor": "white",
             "startlinecolor": "#2a3f5f"
            },
            "baxis": {
             "endlinecolor": "#2a3f5f",
             "gridcolor": "white",
             "linecolor": "white",
             "minorgridcolor": "white",
             "startlinecolor": "#2a3f5f"
            },
            "type": "carpet"
           }
          ],
          "choropleth": [
           {
            "colorbar": {
             "outlinewidth": 0,
             "ticks": ""
            },
            "type": "choropleth"
           }
          ],
          "contour": [
           {
            "colorbar": {
             "outlinewidth": 0,
             "ticks": ""
            },
            "colorscale": [
             [
              0,
              "#0d0887"
             ],
             [
              0.1111111111111111,
              "#46039f"
             ],
             [
              0.2222222222222222,
              "#7201a8"
             ],
             [
              0.3333333333333333,
              "#9c179e"
             ],
             [
              0.4444444444444444,
              "#bd3786"
             ],
             [
              0.5555555555555556,
              "#d8576b"
             ],
             [
              0.6666666666666666,
              "#ed7953"
             ],
             [
              0.7777777777777778,
              "#fb9f3a"
             ],
             [
              0.8888888888888888,
              "#fdca26"
             ],
             [
              1,
              "#f0f921"
             ]
            ],
            "type": "contour"
           }
          ],
          "contourcarpet": [
           {
            "colorbar": {
             "outlinewidth": 0,
             "ticks": ""
            },
            "type": "contourcarpet"
           }
          ],
          "heatmap": [
           {
            "colorbar": {
             "outlinewidth": 0,
             "ticks": ""
            },
            "colorscale": [
             [
              0,
              "#0d0887"
             ],
             [
              0.1111111111111111,
              "#46039f"
             ],
             [
              0.2222222222222222,
              "#7201a8"
             ],
             [
              0.3333333333333333,
              "#9c179e"
             ],
             [
              0.4444444444444444,
              "#bd3786"
             ],
             [
              0.5555555555555556,
              "#d8576b"
             ],
             [
              0.6666666666666666,
              "#ed7953"
             ],
             [
              0.7777777777777778,
              "#fb9f3a"
             ],
             [
              0.8888888888888888,
              "#fdca26"
             ],
             [
              1,
              "#f0f921"
             ]
            ],
            "type": "heatmap"
           }
          ],
          "heatmapgl": [
           {
            "colorbar": {
             "outlinewidth": 0,
             "ticks": ""
            },
            "colorscale": [
             [
              0,
              "#0d0887"
             ],
             [
              0.1111111111111111,
              "#46039f"
             ],
             [
              0.2222222222222222,
              "#7201a8"
             ],
             [
              0.3333333333333333,
              "#9c179e"
             ],
             [
              0.4444444444444444,
              "#bd3786"
             ],
             [
              0.5555555555555556,
              "#d8576b"
             ],
             [
              0.6666666666666666,
              "#ed7953"
             ],
             [
              0.7777777777777778,
              "#fb9f3a"
             ],
             [
              0.8888888888888888,
              "#fdca26"
             ],
             [
              1,
              "#f0f921"
             ]
            ],
            "type": "heatmapgl"
           }
          ],
          "histogram": [
           {
            "marker": {
             "pattern": {
              "fillmode": "overlay",
              "size": 10,
              "solidity": 0.2
             }
            },
            "type": "histogram"
           }
          ],
          "histogram2d": [
           {
            "colorbar": {
             "outlinewidth": 0,
             "ticks": ""
            },
            "colorscale": [
             [
              0,
              "#0d0887"
             ],
             [
              0.1111111111111111,
              "#46039f"
             ],
             [
              0.2222222222222222,
              "#7201a8"
             ],
             [
              0.3333333333333333,
              "#9c179e"
             ],
             [
              0.4444444444444444,
              "#bd3786"
             ],
             [
              0.5555555555555556,
              "#d8576b"
             ],
             [
              0.6666666666666666,
              "#ed7953"
             ],
             [
              0.7777777777777778,
              "#fb9f3a"
             ],
             [
              0.8888888888888888,
              "#fdca26"
             ],
             [
              1,
              "#f0f921"
             ]
            ],
            "type": "histogram2d"
           }
          ],
          "histogram2dcontour": [
           {
            "colorbar": {
             "outlinewidth": 0,
             "ticks": ""
            },
            "colorscale": [
             [
              0,
              "#0d0887"
             ],
             [
              0.1111111111111111,
              "#46039f"
             ],
             [
              0.2222222222222222,
              "#7201a8"
             ],
             [
              0.3333333333333333,
              "#9c179e"
             ],
             [
              0.4444444444444444,
              "#bd3786"
             ],
             [
              0.5555555555555556,
              "#d8576b"
             ],
             [
              0.6666666666666666,
              "#ed7953"
             ],
             [
              0.7777777777777778,
              "#fb9f3a"
             ],
             [
              0.8888888888888888,
              "#fdca26"
             ],
             [
              1,
              "#f0f921"
             ]
            ],
            "type": "histogram2dcontour"
           }
          ],
          "mesh3d": [
           {
            "colorbar": {
             "outlinewidth": 0,
             "ticks": ""
            },
            "type": "mesh3d"
           }
          ],
          "parcoords": [
           {
            "line": {
             "colorbar": {
              "outlinewidth": 0,
              "ticks": ""
             }
            },
            "type": "parcoords"
           }
          ],
          "pie": [
           {
            "automargin": true,
            "type": "pie"
           }
          ],
          "scatter": [
           {
            "fillpattern": {
             "fillmode": "overlay",
             "size": 10,
             "solidity": 0.2
            },
            "type": "scatter"
           }
          ],
          "scatter3d": [
           {
            "line": {
             "colorbar": {
              "outlinewidth": 0,
              "ticks": ""
             }
            },
            "marker": {
             "colorbar": {
              "outlinewidth": 0,
              "ticks": ""
             }
            },
            "type": "scatter3d"
           }
          ],
          "scattercarpet": [
           {
            "marker": {
             "colorbar": {
              "outlinewidth": 0,
              "ticks": ""
             }
            },
            "type": "scattercarpet"
           }
          ],
          "scattergeo": [
           {
            "marker": {
             "colorbar": {
              "outlinewidth": 0,
              "ticks": ""
             }
            },
            "type": "scattergeo"
           }
          ],
          "scattergl": [
           {
            "marker": {
             "colorbar": {
              "outlinewidth": 0,
              "ticks": ""
             }
            },
            "type": "scattergl"
           }
          ],
          "scattermapbox": [
           {
            "marker": {
             "colorbar": {
              "outlinewidth": 0,
              "ticks": ""
             }
            },
            "type": "scattermapbox"
           }
          ],
          "scatterpolar": [
           {
            "marker": {
             "colorbar": {
              "outlinewidth": 0,
              "ticks": ""
             }
            },
            "type": "scatterpolar"
           }
          ],
          "scatterpolargl": [
           {
            "marker": {
             "colorbar": {
              "outlinewidth": 0,
              "ticks": ""
             }
            },
            "type": "scatterpolargl"
           }
          ],
          "scatterternary": [
           {
            "marker": {
             "colorbar": {
              "outlinewidth": 0,
              "ticks": ""
             }
            },
            "type": "scatterternary"
           }
          ],
          "surface": [
           {
            "colorbar": {
             "outlinewidth": 0,
             "ticks": ""
            },
            "colorscale": [
             [
              0,
              "#0d0887"
             ],
             [
              0.1111111111111111,
              "#46039f"
             ],
             [
              0.2222222222222222,
              "#7201a8"
             ],
             [
              0.3333333333333333,
              "#9c179e"
             ],
             [
              0.4444444444444444,
              "#bd3786"
             ],
             [
              0.5555555555555556,
              "#d8576b"
             ],
             [
              0.6666666666666666,
              "#ed7953"
             ],
             [
              0.7777777777777778,
              "#fb9f3a"
             ],
             [
              0.8888888888888888,
              "#fdca26"
             ],
             [
              1,
              "#f0f921"
             ]
            ],
            "type": "surface"
           }
          ],
          "table": [
           {
            "cells": {
             "fill": {
              "color": "#EBF0F8"
             },
             "line": {
              "color": "white"
             }
            },
            "header": {
             "fill": {
              "color": "#C8D4E3"
             },
             "line": {
              "color": "white"
             }
            },
            "type": "table"
           }
          ]
         },
         "layout": {
          "annotationdefaults": {
           "arrowcolor": "#2a3f5f",
           "arrowhead": 0,
           "arrowwidth": 1
          },
          "autotypenumbers": "strict",
          "coloraxis": {
           "colorbar": {
            "outlinewidth": 0,
            "ticks": ""
           }
          },
          "colorscale": {
           "diverging": [
            [
             0,
             "#8e0152"
            ],
            [
             0.1,
             "#c51b7d"
            ],
            [
             0.2,
             "#de77ae"
            ],
            [
             0.3,
             "#f1b6da"
            ],
            [
             0.4,
             "#fde0ef"
            ],
            [
             0.5,
             "#f7f7f7"
            ],
            [
             0.6,
             "#e6f5d0"
            ],
            [
             0.7,
             "#b8e186"
            ],
            [
             0.8,
             "#7fbc41"
            ],
            [
             0.9,
             "#4d9221"
            ],
            [
             1,
             "#276419"
            ]
           ],
           "sequential": [
            [
             0,
             "#0d0887"
            ],
            [
             0.1111111111111111,
             "#46039f"
            ],
            [
             0.2222222222222222,
             "#7201a8"
            ],
            [
             0.3333333333333333,
             "#9c179e"
            ],
            [
             0.4444444444444444,
             "#bd3786"
            ],
            [
             0.5555555555555556,
             "#d8576b"
            ],
            [
             0.6666666666666666,
             "#ed7953"
            ],
            [
             0.7777777777777778,
             "#fb9f3a"
            ],
            [
             0.8888888888888888,
             "#fdca26"
            ],
            [
             1,
             "#f0f921"
            ]
           ],
           "sequentialminus": [
            [
             0,
             "#0d0887"
            ],
            [
             0.1111111111111111,
             "#46039f"
            ],
            [
             0.2222222222222222,
             "#7201a8"
            ],
            [
             0.3333333333333333,
             "#9c179e"
            ],
            [
             0.4444444444444444,
             "#bd3786"
            ],
            [
             0.5555555555555556,
             "#d8576b"
            ],
            [
             0.6666666666666666,
             "#ed7953"
            ],
            [
             0.7777777777777778,
             "#fb9f3a"
            ],
            [
             0.8888888888888888,
             "#fdca26"
            ],
            [
             1,
             "#f0f921"
            ]
           ]
          },
          "colorway": [
           "#636efa",
           "#EF553B",
           "#00cc96",
           "#ab63fa",
           "#FFA15A",
           "#19d3f3",
           "#FF6692",
           "#B6E880",
           "#FF97FF",
           "#FECB52"
          ],
          "font": {
           "color": "#2a3f5f"
          },
          "geo": {
           "bgcolor": "white",
           "lakecolor": "white",
           "landcolor": "#E5ECF6",
           "showlakes": true,
           "showland": true,
           "subunitcolor": "white"
          },
          "hoverlabel": {
           "align": "left"
          },
          "hovermode": "closest",
          "mapbox": {
           "style": "light"
          },
          "paper_bgcolor": "white",
          "plot_bgcolor": "#E5ECF6",
          "polar": {
           "angularaxis": {
            "gridcolor": "white",
            "linecolor": "white",
            "ticks": ""
           },
           "bgcolor": "#E5ECF6",
           "radialaxis": {
            "gridcolor": "white",
            "linecolor": "white",
            "ticks": ""
           }
          },
          "scene": {
           "xaxis": {
            "backgroundcolor": "#E5ECF6",
            "gridcolor": "white",
            "gridwidth": 2,
            "linecolor": "white",
            "showbackground": true,
            "ticks": "",
            "zerolinecolor": "white"
           },
           "yaxis": {
            "backgroundcolor": "#E5ECF6",
            "gridcolor": "white",
            "gridwidth": 2,
            "linecolor": "white",
            "showbackground": true,
            "ticks": "",
            "zerolinecolor": "white"
           },
           "zaxis": {
            "backgroundcolor": "#E5ECF6",
            "gridcolor": "white",
            "gridwidth": 2,
            "linecolor": "white",
            "showbackground": true,
            "ticks": "",
            "zerolinecolor": "white"
           }
          },
          "shapedefaults": {
           "line": {
            "color": "#2a3f5f"
           }
          },
          "ternary": {
           "aaxis": {
            "gridcolor": "white",
            "linecolor": "white",
            "ticks": ""
           },
           "baxis": {
            "gridcolor": "white",
            "linecolor": "white",
            "ticks": ""
           },
           "bgcolor": "#E5ECF6",
           "caxis": {
            "gridcolor": "white",
            "linecolor": "white",
            "ticks": ""
           }
          },
          "title": {
           "x": 0.05
          },
          "xaxis": {
           "automargin": true,
           "gridcolor": "white",
           "linecolor": "white",
           "ticks": "",
           "title": {
            "standoff": 15
           },
           "zerolinecolor": "white",
           "zerolinewidth": 2
          },
          "yaxis": {
           "automargin": true,
           "gridcolor": "white",
           "linecolor": "white",
           "ticks": "",
           "title": {
            "standoff": 15
           },
           "zerolinecolor": "white",
           "zerolinewidth": 2
          }
         }
        },
        "title": {
         "text": "3D Plot for Endcap 1, Station 1, Ring 1, Chamber 2"
        },
        "width": 700
       }
      }
     },
     "metadata": {},
     "output_type": "display_data"
    }
   ],
   "source": [
    "import plotly.graph_objects as go\n",
    "\n",
    "def plot_3d_chamber_layers(df, endcap, station, ring, chamber):\n",
    "    # Filter the dataframe based on the input parameters\n",
    "    chamber_df = df[(df['endcap'] == endcap) & \n",
    "                    (df['station'] == station) & \n",
    "                    (df['ring'] == ring) & \n",
    "                    (df['chamber'] == chamber)]\n",
    "    \n",
    "    # Initialize a plotly figure\n",
    "    fig = go.Figure()\n",
    "\n",
    "    # Plot the chamber itself (layer = 0)\n",
    "    chamber_data = chamber_df[chamber_df['layer'] == 0]\n",
    "    fig.add_trace(go.Scatter3d(\n",
    "        x=chamber_data['dx'],\n",
    "        y=chamber_data['dy'],\n",
    "        z=chamber_data['dz'],\n",
    "        mode='markers',\n",
    "        marker=dict(size=5, color='blue', opacity=0.8),\n",
    "        name='Chamber'\n",
    "    ))\n",
    "\n",
    "    # Plot the layers (layer = 1 to 6)\n",
    "    layer_data = chamber_df[chamber_df['layer'] != 0]\n",
    "    fig.add_trace(go.Scatter3d(\n",
    "        x=layer_data['dx'],\n",
    "        y=layer_data['dy'],\n",
    "        z=layer_data['dz'],\n",
    "        mode='markers',\n",
    "        marker=dict(size=5, color='red', opacity=0.8),\n",
    "        name='Layers 1-6'\n",
    "    ))\n",
    "\n",
    "    # Set axis titles and update layout\n",
    "    fig.update_layout(scene=dict(\n",
    "        xaxis_title='dx',\n",
    "        yaxis_title='dy',\n",
    "        zaxis_title='dz'\n",
    "    ),\n",
    "    width=700, height=700,\n",
    "    title=f'3D Plot for Endcap {endcap}, Station {station}, Ring {ring}, Chamber {chamber}')\n",
    "\n",
    "    # Show the plot\n",
    "    fig.show()\n",
    "\n",
    "# Example usage:\n",
    "plot_3d_chamber_layers(result_df, endcap=1, station=1, ring=1, chamber=2)\n"
   ]
  },
  {
   "cell_type": "markdown",
   "metadata": {},
   "source": [
    "Attempt to calculate phi_y\n",
    "phi_y calculated in local coordinates. Global coordinates are used only to determine distance between layers because local z = global z"
   ]
  },
  {
   "cell_type": "code",
   "execution_count": 28,
   "metadata": {},
   "outputs": [],
   "source": [
    "CSCLayerAlLa = parse_xml_alignment(file_path=\"data/CSCLaAl.xml\",\n",
    "                                   detector_type=\"CSCLayer\",\n",
    "                                   name = \"CSCLayer Alignment Layer\")"
   ]
  },
  {
   "cell_type": "code",
   "execution_count": 38,
   "metadata": {},
   "outputs": [
    {
     "data": {
      "image/png": "[encoded data removed]",
      "text/plain": [
       "<Figure size 2000x600 with 1 Axes>"
      ]
     },
     "metadata": {},
     "output_type": "display_data"
    }
   ],
   "source": [
    "import pandas as pd\n",
    "import numpy as np\n",
    "import matplotlib.pyplot as plt\n",
    "\n",
    "def plot_layers_in_ring(df, result_df, endcap, station, ring, title=\"Layer Plot\", x_label=\"Chamber\", y_label=\"Value\", outlier_threshold=1):\n",
    "    # Filter the DataFrame based on the input endcap, station, and ring\n",
    "    filtered_df = df[(df['endcap'] == endcap) & \n",
    "                     (df['station'] == station) & \n",
    "                     (df['ring'] == ring)]\n",
    "    \n",
    "    # Sort by chamber and layer to ensure proper ordering\n",
    "    filtered_df = filtered_df.sort_values(by=['chamber', 'layer'])\n",
    "    \n",
    "    # Filter result_df for the same endcap, station, and ring\n",
    "    filtered_result_df = result_df[(result_df['endcap'] == endcap) & \n",
    "                                   (result_df['station'] == station) & \n",
    "                                   (result_df['ring'] == ring)]\n",
    "    \n",
    "    # Initialize the plot\n",
    "    fig, ax = plt.subplots(figsize=(20, 6))\n",
    "    \n",
    "    # Extract the relevant data\n",
    "    chambers = filtered_df['chamber'].unique()\n",
    "    num_chambers = len(chambers)\n",
    "    \n",
    "    for i, chamber in enumerate(chambers):\n",
    "        chamber_data = filtered_df[filtered_df['chamber'] == chamber]\n",
    "        result_chamber_data = filtered_result_df[filtered_result_df['chamber'] == chamber]\n",
    "        \n",
    "        data_list = chamber_data['x']  # Replace 'x' with the appropriate column name if needed\n",
    "        \n",
    "        # Center the data around 0 by subtracting the mean\n",
    "        data_list_centered = data_list - data_list.mean()\n",
    "\n",
    "        # Calculate the x positions for this chamber's layers\n",
    "        x = np.arange(i * 6, i * 6 + 6)\n",
    "        \n",
    "        # Plot the data points\n",
    "        ax.plot(x, data_list_centered, marker='o', linestyle='-', color='b', linewidth=0, markersize=3)\n",
    "        \n",
    "        # Calculate STD for each chamber (6 layers per chamber)\n",
    "        std = np.std(data_list_centered)\n",
    "        \n",
    "        # Plot STD range for this chamber\n",
    "        upper_bound = data_list_centered + std\n",
    "        lower_bound = data_list_centered - std\n",
    "        ax.fill_between(x, upper_bound, lower_bound, alpha=0.1, color='r')\n",
    "\n",
    "        # Perform linear regression on this chamber's layers\n",
    "        x_window = np.array(range(len(data_list_centered)))\n",
    "        y_window = data_list_centered\n",
    "\n",
    "        # Linear regression\n",
    "        m, b = np.polyfit(x_window, y_window, 1)\n",
    "        y_fit = m * x_window + b\n",
    "\n",
    "        # Plot the linear fit line\n",
    "        ax.plot(x, y_fit, color='g', linewidth=2)\n",
    "\n",
    "        # Calculate chi-square\n",
    "        chi_square = np.sum(((y_window - y_fit) ** 2) / abs(y_fit))\n",
    "\n",
    "        # Annotate chi-square value on the plot\n",
    "        ax.annotate(\"$\\chi^2$ \"+ f'{chi_square:.3f}', xy=(x.mean(), y_window.mean()), \n",
    "                    xytext=(x.mean(), y_window.mean() + std), color='red', rotation=90, \n",
    "                    verticalalignment='bottom')\n",
    "\n",
    "        # Calculate dz difference for the slope calculation\n",
    "        dz_diff = result_chamber_data['dz'].diff().iloc[1:]  # Ignore first NaN difference\n",
    "        avg_dz_diff = dz_diff.mean() if not dz_diff.empty else 2.2  # Fallback to 2.2 if dz_diff is empty\n",
    "\n",
    "        # Annotate slope coefficient (slope converted to mrad)\n",
    "        ax.annotate(\"$\\phi_y$ [mrad] \"+f'{m*1000/avg_dz_diff:.3f}', xy=(x.mean(), y_window.mean()), \n",
    "                    xytext=(x.mean(), y_window.mean() - std), color='blue', rotation=90, \n",
    "                    verticalalignment='top')\n",
    "\n",
    "        # Detect and highlight outliers\n",
    "        residuals = y_window - y_fit\n",
    "        outliers = np.abs(residuals) > outlier_threshold * std\n",
    "\n",
    "        # Highlight outliers in red\n",
    "        ax.plot(x[outliers], y_window[outliers], 'ro', markersize=5)\n",
    "\n",
    "    # Set x-axis ticks and labels for chambers\n",
    "    chamber_ticks = np.arange(0, num_chambers * 6, 6) + 2.5  # Offset to center ticks under each set of layers\n",
    "    ax.set_xticks(chamber_ticks)\n",
    "    ax.set_xticklabels(chambers, rotation=45)\n",
    "\n",
    "    # Set x and y limits\n",
    "    ax.set_xlim(-1, num_chambers * 6)\n",
    "\n",
    "    # Set title, x-label, and y-label\n",
    "    ax.set_title(f\"{title} for Endcap {endcap}, Station {station}, Ring {ring}\")\n",
    "    ax.set_xlabel(x_label)\n",
    "    ax.set_ylabel(y_label)\n",
    "\n",
    "    # Enable grid\n",
    "    ax.grid(True)\n",
    "\n",
    "    # Show the plot\n",
    "    plt.show()\n",
    "\n",
    "# Example usage:\n",
    "plot_layers_in_ring(CSCLayerAlLa,result_df, endcap=1, station=1, ring=1, title=\"Layer Plot\", x_label=\"Chamber\", y_label=\"Value\")\n"
   ]
  },
  {
   "cell_type": "code",
   "execution_count": null,
   "metadata": {},
   "outputs": [
    {
     "name": "stdout",
     "output_type": "stream",
     "text": [
      "Welcome to JupyROOT 6.28/00\n"
     ]
    }
   ],
   "source": [
    "from alignment_parser import *\n",
    "from alignment_manipulations import *\n",
    "from csc_plotter import *\n",
    "from dt_plotter import *\n",
    "from gem_plotter import *"
   ]
  }
 ],
 "metadata": {
  "kernelspec": {
   "display_name": "SWAN_env",
   "language": "python",
   "name": "python3"
  },
  "language_info": {
   "codemirror_mode": {
    "name": "ipython",
    "version": 3
   },
   "file_extension": ".py",
   "mimetype": "text/x-python",
   "name": "python",
   "nbconvert_exporter": "python",
   "pygments_lexer": "ipython3",
   "version": "3.9.12"
  }
 },
 "nbformat": 4,
 "nbformat_minor": 2
}
